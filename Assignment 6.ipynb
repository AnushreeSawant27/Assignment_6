{
 "cells": [
  {
   "cell_type": "markdown",
   "id": "d6086097",
   "metadata": {},
   "source": [
    "# Assignment 1"
   ]
  },
  {
   "cell_type": "markdown",
   "id": "96bde514",
   "metadata": {},
   "source": [
    "# 1. Create a JSON file (employee.json) containing employee information of minimum 5 employees. Each employee information consists of Name, DOB, Height, City, State. Write a python program that reads this information from the JSON file and saves the information into a list of objects of Employee class. Finally print the list of the Employee objects."
   ]
  },
  {
   "cell_type": "code",
   "execution_count": 4,
   "id": "2ba6560d",
   "metadata": {},
   "outputs": [
    {
     "name": "stdout",
     "output_type": "stream",
     "text": [
      "Name: Anushree Sawant, DOB: 1990-05-15, Height: 175, City: Mumbai, State: Maharashtra\n",
      "Name: Amit Patel, DOB: 1985-08-20, Height: 162, City: Ahemdabad, State: Gujarat\n",
      "Name: Shruti Sinha, DOB: 1995-03-10, Height: 180, City: Pune, State: Maharashtra\n",
      "Name: Sanjay Singh, DOB: 1992-11-25, Height: 168, City: Delhi, State: Haryana\n",
      "Name: Pooja Jadhav, DOB: 1980-09-08, Height: 185, City: Nagpur, State: Maharashtra\n"
     ]
    }
   ],
   "source": [
    "import json\n",
    "\n",
    "# Creating a json file with emloyee information of 5 employees\n",
    "employee_data = [\n",
    "    {\n",
    "        \"Name\": \"Anushree Sawant\",\n",
    "        \"DOB\": \"1990-05-15\",\n",
    "        \"Height\": 175,\n",
    "        \"City\": \"Mumbai\",\n",
    "        \"State\": \"Maharashtra\"\n",
    "    },\n",
    "    {\n",
    "        \"Name\": \"Amit Patel\",\n",
    "        \"DOB\": \"1985-08-20\",\n",
    "        \"Height\": 162,\n",
    "        \"City\": \"Ahemdabad\",\n",
    "        \"State\": \"Gujarat\"\n",
    "    },\n",
    "    {\n",
    "        \"Name\": \"Shruti Sinha\",\n",
    "        \"DOB\": \"1995-03-10\",\n",
    "        \"Height\": 180,\n",
    "        \"City\": \"Pune\",\n",
    "        \"State\": \"Maharashtra\"\n",
    "    },\n",
    "    {\n",
    "        \"Name\": \"Sanjay Singh\",\n",
    "        \"DOB\": \"1992-11-25\",\n",
    "        \"Height\": 168,\n",
    "        \"City\": \"Delhi\",\n",
    "        \"State\": \"Haryana\"\n",
    "    },\n",
    "    {\n",
    "        \"Name\": \"Pooja Jadhav\",\n",
    "        \"DOB\": \"1980-09-08\",\n",
    "        \"Height\": 185,\n",
    "        \"City\": \"Nagpur\",\n",
    "        \"State\": \"Maharashtra\"\n",
    "    }\n",
    "]\n",
    "\n",
    "with open('employee.json', 'w') as json_file:\n",
    "    json.dump(employee_data, json_file, indent=4)\n",
    "\n",
    "\n",
    "\n",
    "# Printing employee objects\n",
    "class Employee:\n",
    "    def __init__(self, name, dob, height, city, state):\n",
    "        self.name = name\n",
    "        self.dob = dob\n",
    "        self.height = height\n",
    "        self.city = city\n",
    "        self.state = state\n",
    "\n",
    "    def __str__(self):\n",
    "        return f\"Name: {self.name}, DOB: {self.dob}, Height: {self.height}, City: {self.city}, State: {self.state}\"\n",
    "\n",
    "# Read data from the JSON file and create a list of Employee objects\n",
    "employee_list = []\n",
    "\n",
    "try:\n",
    "    with open('employee.json', 'r') as json_file:\n",
    "        employee_data = json.load(json_file)\n",
    "        for emp_info in employee_data:\n",
    "            employee = Employee(emp_info['Name'], emp_info['DOB'], emp_info['Height'], emp_info['City'], emp_info['State'])\n",
    "            employee_list.append(employee)\n",
    "except FileNotFoundError:\n",
    "    print(\"The 'employee.json' file does not exist.\")\n",
    "except json.JSONDecodeError:\n",
    "    print(\"Error decoding JSON data from 'employee.json'.\")\n",
    "\n",
    "\n",
    "for employee in employee_list:\n",
    "    print(employee)"
   ]
  },
  {
   "cell_type": "markdown",
   "id": "a78dfcbf",
   "metadata": {},
   "source": [
    "# 2. Create a dictionary of any 7 Indian states and their capitals. Write this into a JSON file."
   ]
  },
  {
   "cell_type": "code",
   "execution_count": 6,
   "id": "b1afe965",
   "metadata": {},
   "outputs": [
    {
     "name": "stdout",
     "output_type": "stream",
     "text": [
      "indian_states_and_capitals.json file created successfully.\n"
     ]
    }
   ],
   "source": [
    "import json\n",
    "\n",
    "# Create a dictionary of Indian states and their capitals\n",
    "indian_states_and_capitals = {\n",
    "    \"Andhra Pradesh\": \"Amaravati\",\n",
    "    \"Karnataka\": \"Bengaluru\",\n",
    "    \"Tamil Nadu\": \"Chennai\",\n",
    "    \"Maharashtra\": \"Mumbai\",\n",
    "    \"Delhi\": \"New Delhi\",\n",
    "    \"Uttar Pradesh\": \"Lucknow\",\n",
    "    \"Rajasthan\": \"Jaipur\"\n",
    "}\n",
    "\n",
    "# Write the dictionary to a JSON file\n",
    "with open('indian_states_and_capitals.json', 'w') as json_file:\n",
    "    json.dump(indian_states_and_capitals, json_file, indent=4)\n",
    "\n",
    "print(\"indian_states_and_capitals.json file created successfully.\")"
   ]
  },
  {
   "cell_type": "markdown",
   "id": "2a2fcff9",
   "metadata": {},
   "source": [
    "# Assignment 2"
   ]
  },
  {
   "cell_type": "markdown",
   "id": "e338784b",
   "metadata": {},
   "source": [
    "# 1. Create a class named ‘Dog’. It should have a constructor which accepts its name, age and coat color. You must perform the following operations"
   ]
  },
  {
   "cell_type": "code",
   "execution_count": 8,
   "id": "87b14a0f",
   "metadata": {},
   "outputs": [
    {
     "name": "stdout",
     "output_type": "stream",
     "text": [
      "Rex is 3 years old.\n",
      "Rex's coat color is Brown.\n",
      "Jack is 2 years old.\n",
      "Jack's coat color is White.\n",
      "Jack loves to play fetch!\n",
      "Jack has a loud bark!\n",
      "Buddy is 4 years old.\n",
      "Buddy's coat color is Fawn.\n",
      "Buddy is known for snoring loudly!\n",
      "Buddy is a good guard dog.\n"
     ]
    }
   ],
   "source": [
    "class Dog:\n",
    "    def __init__(self, name, age, coat_color):\n",
    "        self.name = name\n",
    "        self.age = age\n",
    "        self.coat_color = coat_color\n",
    "\n",
    "    def description(self):\n",
    "        print(f\"{self.name} is {self.age} years old.\")\n",
    "\n",
    "    def get_info(self):\n",
    "        print(f\"{self.name}'s coat color is {self.coat_color}.\")\n",
    "\n",
    "\n",
    "class JackRussellTerrier(Dog):\n",
    "    def __init__(self, name, age, coat_color, energy_level):\n",
    "        super().__init__(name, age, coat_color)\n",
    "        self.energy_level = energy_level\n",
    "\n",
    "    def fetch(self):\n",
    "        print(f\"{self.name} loves to play fetch!\")\n",
    "\n",
    "    def bark(self):\n",
    "        print(f\"{self.name} has a loud bark!\")\n",
    "\n",
    "\n",
    "class Bulldog(Dog):\n",
    "    def __init__(self, name, age, coat_color, drool_level):\n",
    "        super().__init__(name, age, coat_color)\n",
    "        self.drool_level = drool_level\n",
    "\n",
    "    def snore(self):\n",
    "        print(f\"{self.name} is known for snoring loudly!\")\n",
    "\n",
    "    def guard(self):\n",
    "        print(f\"{self.name} is a good guard dog.\")\n",
    "\n",
    "\n",
    "dog1 = Dog(\"Rex\", 3, \"Brown\")\n",
    "dog1.description()\n",
    "dog1.get_info()\n",
    "\n",
    "jack_russell = JackRussellTerrier(\"Jack\", 2, \"White\", \"High\")\n",
    "jack_russell.description()\n",
    "jack_russell.get_info()\n",
    "jack_russell.fetch()\n",
    "jack_russell.bark()\n",
    "\n",
    "bulldog = Bulldog(\"Buddy\", 4, \"Fawn\", \"Moderate\")\n",
    "bulldog.description()\n",
    "bulldog.get_info()\n",
    "bulldog.snore()\n",
    "bulldog.guard()"
   ]
  },
  {
   "cell_type": "code",
   "execution_count": null,
   "id": "eb254ccf",
   "metadata": {},
   "outputs": [],
   "source": []
  }
 ],
 "metadata": {
  "kernelspec": {
   "display_name": "Python 3 (ipykernel)",
   "language": "python",
   "name": "python3"
  },
  "language_info": {
   "codemirror_mode": {
    "name": "ipython",
    "version": 3
   },
   "file_extension": ".py",
   "mimetype": "text/x-python",
   "name": "python",
   "nbconvert_exporter": "python",
   "pygments_lexer": "ipython3",
   "version": "3.9.12"
  }
 },
 "nbformat": 4,
 "nbformat_minor": 5
}
